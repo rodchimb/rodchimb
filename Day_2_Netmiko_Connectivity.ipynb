{
  "cells": [
    {
      "cell_type": "markdown",
      "metadata": {
        "id": "view-in-github",
        "colab_type": "text"
      },
      "source": [
        "<a href=\"https://colab.research.google.com/github/rodchimb/rodchimb/blob/main/Day_2_Netmiko_Connectivity.ipynb\" target=\"_parent\"><img src=\"https://colab.research.google.com/assets/colab-badge.svg\" alt=\"Open In Colab\"/></a>"
      ]
    },
    {
      "cell_type": "code",
      "source": [
        "# day2_netmiko_connect.py\n",
        "# This script introduces the Netmiko library for connecting to a single Cisco device.\n",
        "# It demonstrates the key automation step: establishing a connection and running a command.\n",
        "#\n",
        "# Prerequisite: Make sure you have Netmiko installed. Open your terminal and run:\n",
        "# pip install netmiko\n",
        "\n",
        "from netmiko import ConnectHandler\n",
        "import getpass # A library for securely getting the password from the user.\n",
        "\n",
        "# Step 1: Define device connection details as a dictionary.\n",
        "# Using a dictionary is a standard practice for organizing device data.\n",
        "device = {\n",
        "    'device_type': 'cisco_ios',\n",
        "    'host': '192.168.1.1',  # Replace with your lab device's IP address\n",
        "    'username': 'admin',    # Replace with your device's username\n",
        "    'password': getpass.getpass('Enter password: '), # Securely prompt for password\n",
        "}\n",
        "\n",
        "# Step 2: Use a try/except block for error handling.\n",
        "# This is crucial for automation to handle connection failures gracefully.\n",
        "try:\n",
        "    # ConnectHandler establishes the SSH connection.\n",
        "    print(f\"Connecting to {device['host']}...\")\n",
        "    net_connect = ConnectHandler(**device)\n",
        "\n",
        "    # Step 3: Send a command to the device.\n",
        "    # We use 'send_command()' to execute a 'show' command.\n",
        "    print(\"\\nRunning 'show version'...\")\n",
        "    output = net_connect.send_command('show version')\n",
        "\n",
        "    # Step 4: Print the command output to the console.\n",
        "    print(\"\\n--- Device Output ---\\n\")\n",
        "    print(output)\n",
        "    print(\"\\n--- End of Output ---\\n\")\n",
        "\n",
        "    # Step 5: Disconnect from the device.\n",
        "    net_connect.disconnect()\n",
        "    print(\"Connection closed successfully.\")\n",
        "\n",
        "except Exception as e:\n",
        "    # If any error occurs (e.g., incorrect credentials, device unreachable),\n",
        "    # this block will catch it and print an informative message.\n",
        "    print(f\"\\nAn error occurred: {e}\")\n",
        "\n",
        "# --- Postman & cURL Equivalent ---\n",
        "# Note: Postman and cURL cannot be used to connect to a device directly over SSH.\n",
        "# They are designed for HTTP/HTTPS requests to APIs. The equivalent task would\n",
        "# involve an API call to a network controller (like Cisco DNA Center or a Meraki\n",
        "# dashboard) that can programmatically retrieve device information.\n",
        "#\n",
        "# A hypothetical cURL command to get version information from a controller might look like this:\n",
        "# curl -X GET \"https://api.your-controller.com/v1/devices/12345/version\" \\\n",
        "#      -H \"X-Auth-Token: YOUR_API_TOKEN\"\n",
        "#\n",
        "# In Postman, you would create a new request, set the method to GET, paste the URL,\n",
        "# and add the \"X-Auth-Token\" as a header with your API key."
      ],
      "outputs": [],
      "execution_count": null,
      "metadata": {
        "id": "J5uZtzAZjzl8"
      }
    }
  ],
  "metadata": {
    "colab": {
      "provenance": [],
      "include_colab_link": true
    },
    "kernelspec": {
      "display_name": "Python 3",
      "name": "python3"
    }
  },
  "nbformat": 4,
  "nbformat_minor": 0
}