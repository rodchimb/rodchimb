{
  "cells": [
    {
      "cell_type": "markdown",
      "metadata": {
        "id": "view-in-github",
        "colab_type": "text"
      },
      "source": [
        "<a href=\"https://colab.research.google.com/github/rodchimb/rodchimb/blob/main/Day_1_Python_Fundamentals.ipynb\" target=\"_parent\"><img src=\"https://colab.research.google.com/assets/colab-badge.svg\" alt=\"Open In Colab\"/></a>"
      ]
    },
    {
      "cell_type": "code",
      "source": [
        "# day1_fundamentals.py\n",
        "# This script introduces basic Python concepts: variables, lists, and loops.\n",
        "# It is the foundational lesson for the course.\n",
        "\n",
        "# Step 1: Create a variable to store the number of devices.\n",
        "# This variable will be used to control our loop.\n",
        "num_devices = 3\n",
        "\n",
        "# Step 2: Create a list to store device IP addresses.\n",
        "# This is a key data structure in Python for ordered collections.\n",
        "device_ips = []\n",
        "\n",
        "# Step 3: Use a 'for' loop to get IP addresses from the user.\n",
        "# The 'range(num_devices)' function generates a sequence of numbers from 0 to 2,\n",
        "# allowing the loop to run exactly three times.\n",
        "print(\"Please enter the IP addresses for 3 network devices.\")\n",
        "for i in range(num_devices):\n",
        "    # The 'input()' function prompts the user for text and returns it as a string.\n",
        "    ip_address = input(f\"Enter IP address for device {i+1}: \")\n",
        "    # The '.append()' method adds the entered IP address to our list.\n",
        "    device_ips.append(ip_address)\n",
        "\n",
        "# Step 4: Use another 'for' loop to print out the IP addresses.\n",
        "# This loop iterates directly over the 'device_ips' list, making the code more readable.\n",
        "print(\"\\nHere are the IP addresses you entered:\")\n",
        "for ip in device_ips:\n",
        "    print(f\"-> {ip}\")\n",
        "\n",
        "# --- Postman & cURL Equivalent ---\n",
        "# Note: This is a foundational Python script and does not interact with a network device's\n",
        "# API. Therefore, there is no direct Postman or cURL equivalent for this specific task.\n",
        "# These tools are used for sending HTTP/S requests to APIs, not for command-line\n",
        "# interaction with devices via SSH or Telnet, which is what we will learn tomorrow."
      ],
      "outputs": [],
      "execution_count": null,
      "metadata": {
        "id": "m37JtFWIjZIs"
      }
    }
  ],
  "metadata": {
    "colab": {
      "provenance": [],
      "include_colab_link": true
    },
    "kernelspec": {
      "display_name": "Python 3",
      "name": "python3"
    }
  },
  "nbformat": 4,
  "nbformat_minor": 0
}